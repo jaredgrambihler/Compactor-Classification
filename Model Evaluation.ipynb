{
 "cells": [
  {
   "cell_type": "code",
   "execution_count": null,
   "metadata": {},
   "outputs": [],
   "source": [
    "import random\n",
    "import glob\n",
    "import pathlib\n",
    "import os\n",
    "from PIL import Image\n",
    "import numpy as np\n",
    "import sys\n",
    "import tqdm\n",
    "import matplotlib.pyplot as plt\n",
    "import matplotlib.image as mpimg\n",
    "import keras\n",
    "import gc\n",
    "from keras.preprocessing.image import ImageDataGenerator\n",
    "from sklearn.model_selection import train_test_split"
   ]
  },
  {
   "cell_type": "code",
   "execution_count": null,
   "metadata": {},
   "outputs": [],
   "source": [
    "label_to_index = {'Normal': 0, 'People': 1, 'Potential Pileup': 2, 'Pileup': 3}\n",
    "index_to_label = {v: k for k, v in label_to_index.items()}"
   ]
  },
  {
   "cell_type": "code",
   "execution_count": null,
   "metadata": {},
   "outputs": [],
   "source": [
    "IMG_SIZE = 224\n",
    "\n",
    "def preprocess_image(path):\n",
    "    image = Image.open(path)\n",
    "    return np.array((image.resize((IMG_SIZE, IMG_SIZE)))) / 255.0"
   ]
  },
  {
   "cell_type": "code",
   "execution_count": null,
   "metadata": {},
   "outputs": [],
   "source": [
    "#Load test data from the test folder into x_test, y_test\n",
    "def getTestImages(path):\n",
    "    image_paths = glob.glob(path)\n",
    "    random.shuffle(image_paths)\n",
    "    return image_paths\n",
    "\n",
    "image_paths = getTestImages(\"CompactorTest\\\\Normal\\\\*.jpg\")\n",
    "y_test = [0] * len(image_paths)\n",
    "image_paths += getTestImages(\"CompactorTest\\\\People\\\\*.jpg\")\n",
    "y_test += [1] * (len(image_paths) - len(y_test))\n",
    "image_paths += getTestImages(\"CompactorTest\\\\PotentialPileup\\\\*.jpg\")\n",
    "y_test += [2] * (len(image_paths) - len(y_test))\n",
    "image_paths += getTestImages(\"CompactorTest\\\\Pileup\\\\*.jpg\")\n",
    "y_test += [3] * (len(image_paths) - len(y_test))\n",
    "\n",
    "x_test = np.zeros(shape=(len(image_paths), IMG_SIZE, IMG_SIZE, 3))\n",
    "for i, image in tqdm.tqdm(enumerate(image_paths)):\n",
    "    x_test[i] = preprocess_image(image)"
   ]
  },
  {
   "cell_type": "code",
   "execution_count": null,
   "metadata": {},
   "outputs": [],
   "source": [
    "model = keras.models.load_model('GarbageModel.h5')"
   ]
  },
  {
   "cell_type": "code",
   "execution_count": null,
   "metadata": {},
   "outputs": [],
   "source": [
    "predictions = model.predict(x_test)"
   ]
  },
  {
   "cell_type": "code",
   "execution_count": null,
   "metadata": {},
   "outputs": [],
   "source": [
    "#check false positives\n",
    "fp = np.zeros(16).reshape((4,4))\n",
    "paths = []\n",
    "for i in range(len(fp)):\n",
    "    paths.append([])\n",
    "    for j in range(len(fp[i])):\n",
    "        paths[i].append([])\n",
    "correct = np.zeros(4)\n",
    "totals = np.zeros(4)\n",
    "for i, prediction in enumerate(predictions):\n",
    "    correctLabel = y_test[i]\n",
    "    predictedLabel = np.argmax(prediction)\n",
    "    totals[correctLabel] += 1\n",
    "    if(predictedLabel != correctLabel): #when it is incorrect\n",
    "        fp[correctLabel][predictedLabel] += 1\n",
    "        paths[correctLabel][predictedLabel].append(image_paths[i])\n",
    "    else:\n",
    "        correct[correctLabel] += 1\n",
    "print(\"False Positives: \")\n",
    "for i in range(len(fp)):\n",
    "    print(index_to_label[i], fp[i])\n",
    "print('\\nCorrect: ')\n",
    "for i in range(len(correct)):\n",
    "    print(index_to_label[i], correct[i], '/', totals[i])\n",
    "#print(paths[2][0]) #line to print image paths to see what images are the false positives for the given class"
   ]
  },
  {
   "cell_type": "code",
   "execution_count": null,
   "metadata": {},
   "outputs": [],
   "source": [
    "image_path = \"CompactorLabeled\\\\Pileup\\\\compactor1_03231.jpg\"\n",
    "image = Image.open(image_path)\n",
    "image = np.array((image.resize((IMG_SIZE, IMG_SIZE)))) / 255.0\n",
    "image = np.reshape(image, [1,IMG_SIZE, IMG_SIZE, 3])\n",
    "classes = model.predict_classes(image)\n",
    "print(index_to_label[classes[0]])\n",
    "plt.imshow(np.reshape(image, [IMG_SIZE, IMG_SIZE, 3]))"
   ]
  }
 ],
 "metadata": {
  "kernelspec": {
   "display_name": "Python 3",
   "language": "python",
   "name": "python3"
  },
  "language_info": {
   "codemirror_mode": {
    "name": "ipython",
    "version": 3
   },
   "file_extension": ".py",
   "mimetype": "text/x-python",
   "name": "python",
   "nbconvert_exporter": "python",
   "pygments_lexer": "ipython3",
   "version": "3.6.8"
  }
 },
 "nbformat": 4,
 "nbformat_minor": 2
}
