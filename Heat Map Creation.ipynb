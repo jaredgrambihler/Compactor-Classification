{
 "cells": [
  {
   "cell_type": "code",
   "execution_count": null,
   "metadata": {},
   "outputs": [],
   "source": [
    "import random\n",
    "import glob\n",
    "from PIL import Image\n",
    "import numpy as np\n",
    "import matplotlib.pyplot as plt\n",
    "import keras"
   ]
  },
  {
   "cell_type": "code",
   "execution_count": null,
   "metadata": {},
   "outputs": [],
   "source": [
    "model = keras.models.load_model('GarbageModel.h5')"
   ]
  },
  {
   "cell_type": "code",
   "execution_count": null,
   "metadata": {},
   "outputs": [],
   "source": [
    "FILTER_SIZE = 32 #Size of filter used for heatmap\n",
    "IMG_SIZE = 224\n",
    "label_to_index = {'Normal': 0, 'People': 1, 'Potential Pileup': 2, 'Pileup': 3}\n",
    "index_to_label = {v: k for k, v in label_to_index.items()}"
   ]
  },
  {
   "cell_type": "code",
   "execution_count": null,
   "metadata": {},
   "outputs": [],
   "source": [
    "#loads an image from a path\n",
    "def loadImage(image_path):\n",
    "    image = Image.open(image_path)\n",
    "    image = np.array((image.resize((IMG_SIZE, IMG_SIZE)))) / 255.0\n",
    "    image = np.reshape(image, [1,IMG_SIZE, IMG_SIZE, 3])\n",
    "    return image"
   ]
  },
  {
   "cell_type": "code",
   "execution_count": null,
   "metadata": {},
   "outputs": [],
   "source": [
    "#creates a heatmap for an image.\n",
    "#Accomplishes this by convolving a 0 box of size FILTER_SIZE around the image.\n",
    "#At each point, the model is evaluated and the probabilities of each class are added to the corresponding heatmap.\n",
    "#If the probability drops when the 0 box is over that part of the image, it can be reasoned that the classifier sees\n",
    "#those pixels as important to the classification it has made.\n",
    "def getHeatMap(image_path):\n",
    "    def getFilterImage(image,x,y):\n",
    "        #returns an image for the filter applied at (x,y)\n",
    "        image = np.array(image, copy=True) #make a new copy\n",
    "        for i in range(FILTER_SIZE):\n",
    "            for j in range(FILTER_SIZE):\n",
    "                image[0][i+x][j+y] = 0\n",
    "        return image\n",
    "    \n",
    "    heatMapSize = int(IMG_SIZE/FILTER_SIZE)\n",
    "    heatMaps = [np.zeros((heatMapSize, heatMapSize)) for x in range(4)] #creates list with heatmaps for each label\n",
    "    image = loadImage(image_path)\n",
    "    labelIndex = 0\n",
    "    for i in range(heatMapSize):\n",
    "        for j in range(heatMapSize):\n",
    "            img = getFilterImage(image, i*FILTER_SIZE, j*FILTER_SIZE)\n",
    "            scores = model.predict(img)\n",
    "            for k, heatMap in enumerate(heatMaps):\n",
    "                heatMap[i][j] = scores[0][k]\n",
    "    for heatMap in heatMaps:\n",
    "        heatMap = heatMap/np.amax(heatMap)\n",
    "    return heatMaps"
   ]
  },
  {
   "cell_type": "code",
   "execution_count": null,
   "metadata": {},
   "outputs": [],
   "source": [
    "#shows heatmaps for all classes\n",
    "def allHeatMaps(image_path, heatMaps, labelIndex):\n",
    "    fig = plt.figure(figsize=(10,10))\n",
    "    ax1 =fig.add_subplot(2,3,1)\n",
    "    ax1.axis('off')\n",
    "    ax1.title.set_text('Original Image')\n",
    "    image = loadImage(image_path)\n",
    "    ax1.imshow(np.reshape(image, (IMG_SIZE,IMG_SIZE,3)))\n",
    "    for i, heatMap in enumerate(heatMaps):\n",
    "        ax = fig.add_subplot(2, 3 , i+2)\n",
    "        ax.axis('off')\n",
    "        ax.title.set_text(index_to_label[i] + \" Heatmap\")\n",
    "        ax.imshow(heatMaps[i])\n",
    "    img_name = image_path.split('\\\\')[-1].split('.')[0]\n",
    "    plt.savefig(\"HeatMaps\\\\\" + index_to_label[labelIndex] + \"\\\\\" + img_name + 'all.jpg')\n",
    "    plt.close(\"all\")"
   ]
  },
  {
   "cell_type": "code",
   "execution_count": null,
   "metadata": {},
   "outputs": [],
   "source": [
    "#creates heatmap for the only the images true class\n",
    "def singleHeatMap(heatMap, image_path, labelIndex):\n",
    "    fig = plt.figure(figsize=(10,10))\n",
    "    ax1 = fig.add_subplot(1,2,1)\n",
    "    ax1.axis('off')\n",
    "    ax1.title.set_text('Original Image')\n",
    "    image = loadImage(image_path)\n",
    "    ax1.imshow(np.reshape(image, (IMG_SIZE,IMG_SIZE,3)))\n",
    "    ax2 = fig.add_subplot(1,2,2)\n",
    "    ax2.axis('off')\n",
    "    ax2.title.set_text(index_to_label[labelIndex] + \" Heatmap\")\n",
    "    ax2.imshow(heatMap)\n",
    "    img_name = image_path.split('\\\\')[-1].split('.')[0]\n",
    "    plt.savefig(\"HeatMaps\\\\\" + index_to_label[labelIndex] + \"\\\\\" + img_name + 'single.jpg')\n",
    "    plt.close(\"all\")"
   ]
  },
  {
   "cell_type": "code",
   "execution_count": null,
   "metadata": {},
   "outputs": [],
   "source": [
    "#how many heatmaps of each class are to be created\n",
    "normal = 4\n",
    "people = 4\n",
    "potentialPileup = 4\n",
    "pileup = 4"
   ]
  },
  {
   "cell_type": "code",
   "execution_count": null,
   "metadata": {},
   "outputs": [],
   "source": [
    "#loads image paths randomly from each folder\n",
    "def getImageList(path, length):\n",
    "    image_paths = glob.glob(path)\n",
    "    random.shuffle(image_paths)\n",
    "    return image_paths[:length]\n",
    "\n",
    "image_paths = getImageList(\"CompactorLabeled\\\\Normal\\\\*.jpg\", normal)\n",
    "image_paths += getImageList(\"CompactorLabeled\\\\People\\\\*.jpg\", people)\n",
    "image_paths += getImageList(\"CompactorLabeled\\\\PotentialPileup\\\\*.jpg\", potentialPileup)\n",
    "image_paths += getImageList(\"CompactorLabeled\\\\Pileup\\\\*.jpg\", pileup)\n",
    "image_labels = [0] * normal + [1] * people + [2] * potentialPileup + [3] * pileup"
   ]
  },
  {
   "cell_type": "code",
   "execution_count": null,
   "metadata": {},
   "outputs": [],
   "source": [
    "#generates all heat maps in folders. This takes a long time to complete.\n",
    "#Make sure there is a HeatMaps/LabelName directory present for each LabelName\n",
    "for i, image_path in enumerate(image_paths):\n",
    "    heatMaps = getHeatMap(image_path)\n",
    "    allHeatMaps(image_path, heatMaps, image_labels[i])\n",
    "    singleHeatMap(heatMaps[image_labels[i]], image_path, image_labels[i])"
   ]
  },
  {
   "cell_type": "code",
   "execution_count": null,
   "metadata": {},
   "outputs": [],
   "source": []
  }
 ],
 "metadata": {
  "kernelspec": {
   "display_name": "Python 3",
   "language": "python",
   "name": "python3"
  },
  "language_info": {
   "codemirror_mode": {
    "name": "ipython",
    "version": 3
   },
   "file_extension": ".py",
   "mimetype": "text/x-python",
   "name": "python",
   "nbconvert_exporter": "python",
   "pygments_lexer": "ipython3",
   "version": "3.6.8"
  }
 },
 "nbformat": 4,
 "nbformat_minor": 2
}
