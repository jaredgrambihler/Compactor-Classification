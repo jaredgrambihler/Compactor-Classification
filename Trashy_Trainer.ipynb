{
 "cells": [
  {
   "cell_type": "code",
   "execution_count": null,
   "metadata": {},
   "outputs": [],
   "source": [
    "import random\n",
    "import glob\n",
    "import pathlib\n",
    "import os\n",
    "from PIL import Image\n",
    "import numpy as np\n",
    "import sys\n",
    "import tqdm\n",
    "import matplotlib.pyplot as plt\n",
    "import matplotlib.image as mpimg\n",
    "import keras\n",
    "import gc\n",
    "from keras.preprocessing.image import ImageDataGenerator\n",
    "from sklearn.model_selection import train_test_split"
   ]
  },
  {
   "cell_type": "code",
   "execution_count": null,
   "metadata": {},
   "outputs": [],
   "source": [
    "label_to_index = {'Normal': 0, 'People': 1, 'Potential Pileup': 2, 'Pileup': 3}\n",
    "index_to_label = {v: k for k, v in label_to_index.items()}"
   ]
  },
  {
   "cell_type": "code",
   "execution_count": null,
   "metadata": {},
   "outputs": [],
   "source": [
    "IMG_SIZE = 224\n",
    "\n",
    "def preprocess_image(path):\n",
    "    image = Image.open(path)\n",
    "    return np.array((image.resize((IMG_SIZE, IMG_SIZE)))) / 255.0"
   ]
  },
  {
   "cell_type": "code",
   "execution_count": null,
   "metadata": {
    "scrolled": true
   },
   "outputs": [],
   "source": [
    "LENGTH = 1428 #minimum category size\n",
    "def getImageList(path):\n",
    "    image_paths = glob.glob(path)\n",
    "    random.shuffle(image_paths)\n",
    "    return image_paths[:LENGTH]\n",
    "\n",
    "image_paths = getImageList(\"CompactorLabeled\\\\Normal\\\\*.jpg\")\n",
    "image_paths += getImageList(\"CompactorLabeled\\\\People\\\\*.jpg\")\n",
    "image_paths += getImageList(\"CompactorLabeled\\\\PotentialPileup\\\\*.jpg\")\n",
    "image_paths += getImageList(\"CompactorLabeled\\\\Pileup\\\\*.jpg\")\n",
    "image_labels = [0] * LENGTH + [1] * LENGTH + [2] * LENGTH + [3] * LENGTH"
   ]
  },
  {
   "cell_type": "code",
   "execution_count": null,
   "metadata": {},
   "outputs": [],
   "source": [
    "x_train = np.zeros(shape=(len(image_paths), IMG_SIZE, IMG_SIZE, 3))\n",
    "for i, image in tqdm.tqdm(enumerate(image_paths)):\n",
    "    x_train[i] = preprocess_image(image)"
   ]
  },
  {
   "cell_type": "code",
   "execution_count": null,
   "metadata": {},
   "outputs": [],
   "source": [
    "y_train = np.eye(4)[image_labels]"
   ]
  },
  {
   "cell_type": "code",
   "execution_count": null,
   "metadata": {},
   "outputs": [],
   "source": [
    "print(x_train.shape)\n",
    "print(y_train.shape)"
   ]
  },
  {
   "cell_type": "code",
   "execution_count": null,
   "metadata": {},
   "outputs": [],
   "source": [
    "x_train, x_valid, y_train, y_valid = train_test_split(x_train, y_train, test_size=0.2)\n",
    "\n",
    "BATCH_SIZE = 8\n",
    "\n",
    "datagen = ImageDataGenerator(rotation_range=20, \n",
    "                             horizontal_flip=True, \n",
    "                             width_shift_range=0.2, \n",
    "                             height_shift_range=0.2, \n",
    "                             dtype='float32')\n",
    "datagen.fit(x_train, augment=True, rounds=1, seed=2019)\n",
    "train_generator = datagen.flow(x_train, y_train, \n",
    "                               batch_size=BATCH_SIZE, seed=2019)"
   ]
  },
  {
   "cell_type": "code",
   "execution_count": null,
   "metadata": {},
   "outputs": [],
   "source": [
    "fig = plt.figure(figsize=(10, 10))\n",
    "batch = next(train_generator)\n",
    "\n",
    "SIZE = 3\n",
    "\n",
    "for i in range(8):\n",
    "    ax1 = fig.add_subplot(SIZE, SIZE, i + 1)\n",
    "    ax1.axis('off')\n",
    "    ax1.title.set_text(index_to_label[np.where(batch[1][i]==1)[0][0]])\n",
    "    ax1.imshow(batch[0][i])"
   ]
  },
  {
   "cell_type": "code",
   "execution_count": null,
   "metadata": {},
   "outputs": [],
   "source": [
    "base_model = keras.applications.Xception(input_shape=(IMG_SIZE, IMG_SIZE, 3), include_top=False)\n",
    "\n",
    "model = keras.models.Sequential([\n",
    "    base_model,\n",
    "    keras.layers.GlobalAveragePooling2D(),\n",
    "    keras.layers.Dense(4, activation='softmax')\n",
    "])\n",
    "\n",
    "model.compile(optimizer=keras.optimizers.Adam(lr=0.0001), loss='categorical_crossentropy', metrics=['accuracy'])"
   ]
  },
  {
   "cell_type": "code",
   "execution_count": null,
   "metadata": {},
   "outputs": [],
   "source": [
    "step_size_train = train_generator.n // train_generator.batch_size\n",
    "\n",
    "gc.collect()\n",
    "history = model.fit_generator(generator=train_generator,\n",
    "                   steps_per_epoch=step_size_train,\n",
    "                   epochs=5,\n",
    "                   validation_data=[x_valid, y_valid])"
   ]
  },
  {
   "cell_type": "code",
   "execution_count": null,
   "metadata": {},
   "outputs": [],
   "source": [
    "#displays the model classifying an image\n",
    "image_path = \"CompactorLabeled\\\\Pileup\\\\compactor1_03231.jpg\"\n",
    "image = Image.open(image_path)\n",
    "image = np.array((image.resize((IMG_SIZE, IMG_SIZE)))) / 255.0\n",
    "image = np.reshape(image, [1,IMG_SIZE, IMG_SIZE, 3])\n",
    "classes = model.predict_classes(image)\n",
    "print(index_to_label[classes[0]])\n",
    "plt.imshow(np.reshape(image, [IMG_SIZE, IMG_SIZE, 3]))"
   ]
  },
  {
   "cell_type": "code",
   "execution_count": null,
   "metadata": {},
   "outputs": [],
   "source": [
    "model.save('GarbageModel.h5')"
   ]
  }
 ],
 "metadata": {
  "kernelspec": {
   "display_name": "Python 3",
   "language": "python",
   "name": "python3"
  },
  "language_info": {
   "codemirror_mode": {
    "name": "ipython",
    "version": 3
   },
   "file_extension": ".py",
   "mimetype": "text/x-python",
   "name": "python",
   "nbconvert_exporter": "python",
   "pygments_lexer": "ipython3",
   "version": "3.6.8"
  }
 },
 "nbformat": 4,
 "nbformat_minor": 2
}
